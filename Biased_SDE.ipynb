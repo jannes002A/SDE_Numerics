{
 "cells": [
  {
   "cell_type": "code",
   "execution_count": 1,
   "metadata": {},
   "outputs": [],
   "source": [
    "%matplotlib notebook\n",
    "import numpy as np \n",
    "import scipy as sc\n",
    "import numpy.linalg\n",
    "import numpy.matlib\n",
    "import matplotlib.pyplot as plt"
   ]
  },
  {
   "cell_type": "code",
   "execution_count": 3,
   "metadata": {},
   "outputs": [],
   "source": [
    "np.random.seed(24)\n",
    "pot = lambda x: 1/2*(x**2-1)**2\n",
    "gradV = lambda x: 2*x*(pow(x,2)-1)\n",
    "dt = 0.01\n",
    "sdt = np.sqrt(dt)\n",
    "beta = 10.0\n",
    "sigma = np.sqrt(2.0/beta)"
   ]
  },
  {
   "cell_type": "code",
   "execution_count": null,
   "metadata": {},
   "outputs": [],
   "source": [
    "def Dynamics(x,bias,nS=10):\n",
    "    for i in range(nS):\n",
    "        dbt = np.random.randn(1)[0]\n",
    "        x = x + (bias - gradV(x))*dt + sdt*sigma*dbt\n",
    "    return x"
   ]
  },
  {
   "cell_type": "code",
   "execution_count": 30,
   "metadata": {},
   "outputs": [],
   "source": [
    "def Bias(x,w,pos,a,b,n):\n",
    "    '''Function for evaluation the bias function\n",
    "       x: is the current postion of the SDE\n",
    "       w: are the weights\n",
    "       pos: are the means of the Gaussians\n",
    "       a: is the left bound\n",
    "       b: is the right bound\n",
    "       n: is the number of functions\n",
    "    '''\n",
    "    h = np.linspace(a,b,n)\n",
    "    res = np.array([ 1/(2*np.pi*h[i])*np.exp(-1/2*(x-pos[i]**2/h[i])) for i in range(n)])\n",
    "    return np.dot(res,w)\n"
   ]
  },
  {
   "cell_type": "code",
   "execution_count": 33,
   "metadata": {},
   "outputs": [
    {
     "data": {
      "text/plain": [
       "0.13354410103929182"
      ]
     },
     "execution_count": 33,
     "metadata": {},
     "output_type": "execute_result"
    }
   ],
   "source": [
    "x = 1\n",
    "pos = [1,2]\n",
    "a=-3\n",
    "b=3\n",
    "n=2\n",
    "\n",
    "\n",
    "np.dot(Bias(x,pos,a,b,n),np.array([2,3]))"
   ]
  },
  {
   "cell_type": "code",
   "execution_count": 26,
   "metadata": {},
   "outputs": [
    {
     "data": {
      "text/plain": [
       "[-0.027237624120679014, 0.06267311642688328]"
      ]
     },
     "execution_count": 26,
     "metadata": {},
     "output_type": "execute_result"
    }
   ],
   "source": [
    "def Monte_Carlo_SDE():\n",
    "    "
   ]
  },
  {
   "cell_type": "code",
   "execution_count": null,
   "metadata": {},
   "outputs": [],
   "source": []
  }
 ],
 "metadata": {
  "kernelspec": {
   "display_name": "Python 3",
   "language": "python",
   "name": "python3"
  },
  "language_info": {
   "codemirror_mode": {
    "name": "ipython",
    "version": 3
   },
   "file_extension": ".py",
   "mimetype": "text/x-python",
   "name": "python",
   "nbconvert_exporter": "python",
   "pygments_lexer": "ipython3",
   "version": "3.7.4"
  }
 },
 "nbformat": 4,
 "nbformat_minor": 2
}
